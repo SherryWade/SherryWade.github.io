{
 "cells": [
  {
   "cell_type": "code",
   "execution_count": 7,
   "metadata": {},
   "outputs": [],
   "source": [
    "import pandas as pd\n",
    "from datetime import datetime\n",
    "import os"
   ]
  },
  {
   "cell_type": "code",
   "execution_count": 2,
   "metadata": {},
   "outputs": [],
   "source": [
    "USER_HOME = os.path.expanduser('~')\n",
    "DATA_PATH = os.path.join(USER_HOME, 'Desktop', 'blackfedora')\n",
    "\n",
    "APRIL_PATH = os.path.join(DATA_PATH, '2020April')\n",
    "FEB_PATH = os.path.join(DATA_PATH, '2020Feb')"
   ]
  },
  {
   "cell_type": "markdown",
   "metadata": {},
   "source": [
    "## Event Schedule"
   ]
  },
  {
   "cell_type": "code",
   "execution_count": 3,
   "metadata": {},
   "outputs": [],
   "source": [
    "file_name = 'event_schedule.csv'"
   ]
  },
  {
   "cell_type": "code",
   "execution_count": 4,
   "metadata": {},
   "outputs": [
    {
     "data": {
      "text/plain": [
       "(2550, 9)"
      ]
     },
     "execution_count": 4,
     "metadata": {},
     "output_type": "execute_result"
    }
   ],
   "source": [
    "april_events = pd.read_csv(os.path.join(APRIL_PATH, file_name))\n",
    "april_events.shape"
   ]
  },
  {
   "cell_type": "code",
   "execution_count": 5,
   "metadata": {},
   "outputs": [
    {
     "data": {
      "text/plain": [
       "(2550, 9)"
      ]
     },
     "execution_count": 5,
     "metadata": {},
     "output_type": "execute_result"
    }
   ],
   "source": [
    "feb_events = pd.read_csv(os.path.join(FEB_PATH, file_name))\n",
    "feb_events.shape"
   ]
  },
  {
   "cell_type": "code",
   "execution_count": 8,
   "metadata": {},
   "outputs": [],
   "source": [
    "feb_events['start_time'] = feb_events['timestamp'].apply(lambda x: datetime.fromtimestamp(int(x)))"
   ]
  },
  {
   "cell_type": "code",
   "execution_count": 14,
   "metadata": {},
   "outputs": [],
   "source": [
    "april_events['start_time'] = april_events['timestamp'].apply(lambda x: datetime.fromtimestamp(int(x)))"
   ]
  },
  {
   "cell_type": "code",
   "execution_count": 16,
   "metadata": {},
   "outputs": [
    {
     "data": {
      "text/plain": [
       "set()"
      ]
     },
     "execution_count": 16,
     "metadata": {},
     "output_type": "execute_result"
    }
   ],
   "source": [
    "set(feb_events.id.tolist()) - set(april_events.id.tolist())"
   ]
  },
  {
   "cell_type": "code",
   "execution_count": 17,
   "metadata": {},
   "outputs": [
    {
     "data": {
      "text/html": [
       "<div>\n",
       "<style scoped>\n",
       "    .dataframe tbody tr th:only-of-type {\n",
       "        vertical-align: middle;\n",
       "    }\n",
       "\n",
       "    .dataframe tbody tr th {\n",
       "        vertical-align: top;\n",
       "    }\n",
       "\n",
       "    .dataframe thead th {\n",
       "        text-align: right;\n",
       "    }\n",
       "</style>\n",
       "<table border=\"1\" class=\"dataframe\">\n",
       "  <thead>\n",
       "    <tr style=\"text-align: right;\">\n",
       "      <th></th>\n",
       "      <th>id</th>\n",
       "      <th>show_id</th>\n",
       "      <th>start_time</th>\n",
       "      <th>month</th>\n",
       "      <th>day</th>\n",
       "      <th>year</th>\n",
       "      <th>timestamp</th>\n",
       "      <th>num_tickets_remain</th>\n",
       "      <th>num_tickets_sold</th>\n",
       "    </tr>\n",
       "  </thead>\n",
       "  <tbody>\n",
       "    <tr>\n",
       "      <th>2134</th>\n",
       "      <td>2727</td>\n",
       "      <td>11</td>\n",
       "      <td>1969-12-31 19:00:00</td>\n",
       "      <td>0</td>\n",
       "      <td>0</td>\n",
       "      <td>0</td>\n",
       "      <td>0</td>\n",
       "      <td>0</td>\n",
       "      <td>0</td>\n",
       "    </tr>\n",
       "  </tbody>\n",
       "</table>\n",
       "</div>"
      ],
      "text/plain": [
       "        id  show_id          start_time  month  day  year  timestamp  \\\n",
       "2134  2727       11 1969-12-31 19:00:00      0    0     0          0   \n",
       "\n",
       "      num_tickets_remain  num_tickets_sold  \n",
       "2134                   0                 0  "
      ]
     },
     "execution_count": 17,
     "metadata": {},
     "output_type": "execute_result"
    }
   ],
   "source": [
    "april_events[april_events.id == 2727]"
   ]
  },
  {
   "cell_type": "code",
   "execution_count": 15,
   "metadata": {},
   "outputs": [
    {
     "data": {
      "text/html": [
       "<div>\n",
       "<style scoped>\n",
       "    .dataframe tbody tr th:only-of-type {\n",
       "        vertical-align: middle;\n",
       "    }\n",
       "\n",
       "    .dataframe tbody tr th {\n",
       "        vertical-align: top;\n",
       "    }\n",
       "\n",
       "    .dataframe thead th {\n",
       "        text-align: right;\n",
       "    }\n",
       "</style>\n",
       "<table border=\"1\" class=\"dataframe\">\n",
       "  <thead>\n",
       "    <tr style=\"text-align: right;\">\n",
       "      <th></th>\n",
       "      <th>id</th>\n",
       "      <th>show_id</th>\n",
       "      <th>start_time</th>\n",
       "      <th>month</th>\n",
       "      <th>day</th>\n",
       "      <th>year</th>\n",
       "      <th>timestamp</th>\n",
       "      <th>num_tickets_remain</th>\n",
       "      <th>num_tickets_sold</th>\n",
       "    </tr>\n",
       "  </thead>\n",
       "  <tbody>\n",
       "  </tbody>\n",
       "</table>\n",
       "</div>"
      ],
      "text/plain": [
       "Empty DataFrame\n",
       "Columns: [id, show_id, start_time, month, day, year, timestamp, num_tickets_remain, num_tickets_sold]\n",
       "Index: []"
      ]
     },
     "execution_count": 15,
     "metadata": {},
     "output_type": "execute_result"
    }
   ],
   "source": [
    "msk = (april_events.start_time.dt.year == 2020) & (april_events.start_time.dt.month == 4)\n",
    "\n",
    "april_events[msk].head()"
   ]
  },
  {
   "cell_type": "code",
   "execution_count": 18,
   "metadata": {},
   "outputs": [
    {
     "data": {
      "text/html": [
       "<div>\n",
       "<style scoped>\n",
       "    .dataframe tbody tr th:only-of-type {\n",
       "        vertical-align: middle;\n",
       "    }\n",
       "\n",
       "    .dataframe tbody tr th {\n",
       "        vertical-align: top;\n",
       "    }\n",
       "\n",
       "    .dataframe thead th {\n",
       "        text-align: right;\n",
       "    }\n",
       "</style>\n",
       "<table border=\"1\" class=\"dataframe\">\n",
       "  <thead>\n",
       "    <tr style=\"text-align: right;\">\n",
       "      <th></th>\n",
       "      <th>id</th>\n",
       "      <th>show_id</th>\n",
       "      <th>start_time</th>\n",
       "      <th>month</th>\n",
       "      <th>day</th>\n",
       "      <th>year</th>\n",
       "      <th>timestamp</th>\n",
       "      <th>num_tickets_remain</th>\n",
       "      <th>num_tickets_sold</th>\n",
       "    </tr>\n",
       "  </thead>\n",
       "  <tbody>\n",
       "    <tr>\n",
       "      <th>2134</th>\n",
       "      <td>2727</td>\n",
       "      <td>11</td>\n",
       "      <td>2020-04-04 17:30:00</td>\n",
       "      <td>0</td>\n",
       "      <td>0</td>\n",
       "      <td>0</td>\n",
       "      <td>1586035800</td>\n",
       "      <td>0</td>\n",
       "      <td>0</td>\n",
       "    </tr>\n",
       "    <tr>\n",
       "      <th>2135</th>\n",
       "      <td>2726</td>\n",
       "      <td>7</td>\n",
       "      <td>2020-04-03 20:00:00</td>\n",
       "      <td>0</td>\n",
       "      <td>0</td>\n",
       "      <td>0</td>\n",
       "      <td>1585958400</td>\n",
       "      <td>0</td>\n",
       "      <td>0</td>\n",
       "    </tr>\n",
       "    <tr>\n",
       "      <th>2136</th>\n",
       "      <td>2725</td>\n",
       "      <td>11</td>\n",
       "      <td>2020-04-02 20:00:00</td>\n",
       "      <td>0</td>\n",
       "      <td>0</td>\n",
       "      <td>0</td>\n",
       "      <td>1585872000</td>\n",
       "      <td>0</td>\n",
       "      <td>0</td>\n",
       "    </tr>\n",
       "    <tr>\n",
       "      <th>2137</th>\n",
       "      <td>2724</td>\n",
       "      <td>1</td>\n",
       "      <td>2020-04-01 20:00:00</td>\n",
       "      <td>0</td>\n",
       "      <td>0</td>\n",
       "      <td>0</td>\n",
       "      <td>1585785600</td>\n",
       "      <td>0</td>\n",
       "      <td>0</td>\n",
       "    </tr>\n",
       "    <tr>\n",
       "      <th>2294</th>\n",
       "      <td>2728</td>\n",
       "      <td>13</td>\n",
       "      <td>2020-04-04 20:30:00</td>\n",
       "      <td>0</td>\n",
       "      <td>0</td>\n",
       "      <td>0</td>\n",
       "      <td>1586046600</td>\n",
       "      <td>0</td>\n",
       "      <td>0</td>\n",
       "    </tr>\n",
       "    <tr>\n",
       "      <th>2295</th>\n",
       "      <td>2729</td>\n",
       "      <td>7</td>\n",
       "      <td>2020-04-05 19:00:00</td>\n",
       "      <td>0</td>\n",
       "      <td>0</td>\n",
       "      <td>0</td>\n",
       "      <td>1586127600</td>\n",
       "      <td>0</td>\n",
       "      <td>0</td>\n",
       "    </tr>\n",
       "    <tr>\n",
       "      <th>2296</th>\n",
       "      <td>2730</td>\n",
       "      <td>11</td>\n",
       "      <td>2020-04-07 20:00:00</td>\n",
       "      <td>0</td>\n",
       "      <td>0</td>\n",
       "      <td>0</td>\n",
       "      <td>1586304000</td>\n",
       "      <td>0</td>\n",
       "      <td>0</td>\n",
       "    </tr>\n",
       "    <tr>\n",
       "      <th>2297</th>\n",
       "      <td>2731</td>\n",
       "      <td>1</td>\n",
       "      <td>2020-04-08 20:00:00</td>\n",
       "      <td>0</td>\n",
       "      <td>0</td>\n",
       "      <td>0</td>\n",
       "      <td>1586390400</td>\n",
       "      <td>0</td>\n",
       "      <td>0</td>\n",
       "    </tr>\n",
       "    <tr>\n",
       "      <th>2298</th>\n",
       "      <td>2732</td>\n",
       "      <td>13</td>\n",
       "      <td>2020-04-09 20:00:00</td>\n",
       "      <td>0</td>\n",
       "      <td>0</td>\n",
       "      <td>0</td>\n",
       "      <td>1586476800</td>\n",
       "      <td>0</td>\n",
       "      <td>0</td>\n",
       "    </tr>\n",
       "    <tr>\n",
       "      <th>2299</th>\n",
       "      <td>2733</td>\n",
       "      <td>7</td>\n",
       "      <td>2020-04-10 20:00:00</td>\n",
       "      <td>0</td>\n",
       "      <td>0</td>\n",
       "      <td>0</td>\n",
       "      <td>1586563200</td>\n",
       "      <td>0</td>\n",
       "      <td>0</td>\n",
       "    </tr>\n",
       "    <tr>\n",
       "      <th>2300</th>\n",
       "      <td>2734</td>\n",
       "      <td>13</td>\n",
       "      <td>2020-04-11 17:30:00</td>\n",
       "      <td>0</td>\n",
       "      <td>0</td>\n",
       "      <td>0</td>\n",
       "      <td>1586640600</td>\n",
       "      <td>0</td>\n",
       "      <td>0</td>\n",
       "    </tr>\n",
       "    <tr>\n",
       "      <th>2301</th>\n",
       "      <td>2735</td>\n",
       "      <td>11</td>\n",
       "      <td>2020-04-11 20:30:00</td>\n",
       "      <td>0</td>\n",
       "      <td>0</td>\n",
       "      <td>0</td>\n",
       "      <td>1586651400</td>\n",
       "      <td>0</td>\n",
       "      <td>0</td>\n",
       "    </tr>\n",
       "    <tr>\n",
       "      <th>2302</th>\n",
       "      <td>2736</td>\n",
       "      <td>1</td>\n",
       "      <td>2020-04-14 20:00:00</td>\n",
       "      <td>0</td>\n",
       "      <td>0</td>\n",
       "      <td>0</td>\n",
       "      <td>1586908800</td>\n",
       "      <td>0</td>\n",
       "      <td>0</td>\n",
       "    </tr>\n",
       "    <tr>\n",
       "      <th>2303</th>\n",
       "      <td>2737</td>\n",
       "      <td>13</td>\n",
       "      <td>2020-04-15 20:00:00</td>\n",
       "      <td>0</td>\n",
       "      <td>0</td>\n",
       "      <td>0</td>\n",
       "      <td>1586995200</td>\n",
       "      <td>0</td>\n",
       "      <td>0</td>\n",
       "    </tr>\n",
       "    <tr>\n",
       "      <th>2304</th>\n",
       "      <td>2738</td>\n",
       "      <td>11</td>\n",
       "      <td>2020-04-16 20:00:00</td>\n",
       "      <td>0</td>\n",
       "      <td>0</td>\n",
       "      <td>0</td>\n",
       "      <td>1587081600</td>\n",
       "      <td>0</td>\n",
       "      <td>0</td>\n",
       "    </tr>\n",
       "    <tr>\n",
       "      <th>2305</th>\n",
       "      <td>2739</td>\n",
       "      <td>7</td>\n",
       "      <td>2020-04-17 20:00:00</td>\n",
       "      <td>0</td>\n",
       "      <td>0</td>\n",
       "      <td>0</td>\n",
       "      <td>1587168000</td>\n",
       "      <td>0</td>\n",
       "      <td>0</td>\n",
       "    </tr>\n",
       "    <tr>\n",
       "      <th>2306</th>\n",
       "      <td>2740</td>\n",
       "      <td>11</td>\n",
       "      <td>2020-04-18 17:30:00</td>\n",
       "      <td>0</td>\n",
       "      <td>0</td>\n",
       "      <td>0</td>\n",
       "      <td>1587245400</td>\n",
       "      <td>0</td>\n",
       "      <td>0</td>\n",
       "    </tr>\n",
       "    <tr>\n",
       "      <th>2307</th>\n",
       "      <td>2741</td>\n",
       "      <td>13</td>\n",
       "      <td>2020-04-18 20:30:00</td>\n",
       "      <td>0</td>\n",
       "      <td>0</td>\n",
       "      <td>0</td>\n",
       "      <td>1587256200</td>\n",
       "      <td>0</td>\n",
       "      <td>0</td>\n",
       "    </tr>\n",
       "    <tr>\n",
       "      <th>2308</th>\n",
       "      <td>2742</td>\n",
       "      <td>7</td>\n",
       "      <td>2020-04-19 19:00:00</td>\n",
       "      <td>0</td>\n",
       "      <td>0</td>\n",
       "      <td>0</td>\n",
       "      <td>1587337200</td>\n",
       "      <td>0</td>\n",
       "      <td>0</td>\n",
       "    </tr>\n",
       "    <tr>\n",
       "      <th>2309</th>\n",
       "      <td>2743</td>\n",
       "      <td>1</td>\n",
       "      <td>2020-04-21 20:00:00</td>\n",
       "      <td>0</td>\n",
       "      <td>0</td>\n",
       "      <td>0</td>\n",
       "      <td>1587513600</td>\n",
       "      <td>0</td>\n",
       "      <td>0</td>\n",
       "    </tr>\n",
       "    <tr>\n",
       "      <th>2310</th>\n",
       "      <td>2744</td>\n",
       "      <td>11</td>\n",
       "      <td>2020-04-23 19:30:00</td>\n",
       "      <td>0</td>\n",
       "      <td>0</td>\n",
       "      <td>0</td>\n",
       "      <td>1587684600</td>\n",
       "      <td>0</td>\n",
       "      <td>36</td>\n",
       "    </tr>\n",
       "    <tr>\n",
       "      <th>2311</th>\n",
       "      <td>2745</td>\n",
       "      <td>13</td>\n",
       "      <td>2020-04-24 20:00:00</td>\n",
       "      <td>0</td>\n",
       "      <td>0</td>\n",
       "      <td>0</td>\n",
       "      <td>1587772800</td>\n",
       "      <td>0</td>\n",
       "      <td>0</td>\n",
       "    </tr>\n",
       "    <tr>\n",
       "      <th>2312</th>\n",
       "      <td>2746</td>\n",
       "      <td>7</td>\n",
       "      <td>2020-04-25 20:00:00</td>\n",
       "      <td>0</td>\n",
       "      <td>0</td>\n",
       "      <td>0</td>\n",
       "      <td>1587859200</td>\n",
       "      <td>0</td>\n",
       "      <td>0</td>\n",
       "    </tr>\n",
       "    <tr>\n",
       "      <th>2313</th>\n",
       "      <td>2747</td>\n",
       "      <td>13</td>\n",
       "      <td>2020-04-26 19:00:00</td>\n",
       "      <td>0</td>\n",
       "      <td>0</td>\n",
       "      <td>0</td>\n",
       "      <td>1587942000</td>\n",
       "      <td>0</td>\n",
       "      <td>0</td>\n",
       "    </tr>\n",
       "    <tr>\n",
       "      <th>2314</th>\n",
       "      <td>2748</td>\n",
       "      <td>7</td>\n",
       "      <td>2020-04-28 20:00:00</td>\n",
       "      <td>0</td>\n",
       "      <td>0</td>\n",
       "      <td>0</td>\n",
       "      <td>1588118400</td>\n",
       "      <td>0</td>\n",
       "      <td>0</td>\n",
       "    </tr>\n",
       "    <tr>\n",
       "      <th>2315</th>\n",
       "      <td>2749</td>\n",
       "      <td>1</td>\n",
       "      <td>2020-04-30 20:00:00</td>\n",
       "      <td>0</td>\n",
       "      <td>0</td>\n",
       "      <td>0</td>\n",
       "      <td>1588291200</td>\n",
       "      <td>0</td>\n",
       "      <td>0</td>\n",
       "    </tr>\n",
       "  </tbody>\n",
       "</table>\n",
       "</div>"
      ],
      "text/plain": [
       "        id  show_id          start_time  month  day  year   timestamp  \\\n",
       "2134  2727       11 2020-04-04 17:30:00      0    0     0  1586035800   \n",
       "2135  2726        7 2020-04-03 20:00:00      0    0     0  1585958400   \n",
       "2136  2725       11 2020-04-02 20:00:00      0    0     0  1585872000   \n",
       "2137  2724        1 2020-04-01 20:00:00      0    0     0  1585785600   \n",
       "2294  2728       13 2020-04-04 20:30:00      0    0     0  1586046600   \n",
       "2295  2729        7 2020-04-05 19:00:00      0    0     0  1586127600   \n",
       "2296  2730       11 2020-04-07 20:00:00      0    0     0  1586304000   \n",
       "2297  2731        1 2020-04-08 20:00:00      0    0     0  1586390400   \n",
       "2298  2732       13 2020-04-09 20:00:00      0    0     0  1586476800   \n",
       "2299  2733        7 2020-04-10 20:00:00      0    0     0  1586563200   \n",
       "2300  2734       13 2020-04-11 17:30:00      0    0     0  1586640600   \n",
       "2301  2735       11 2020-04-11 20:30:00      0    0     0  1586651400   \n",
       "2302  2736        1 2020-04-14 20:00:00      0    0     0  1586908800   \n",
       "2303  2737       13 2020-04-15 20:00:00      0    0     0  1586995200   \n",
       "2304  2738       11 2020-04-16 20:00:00      0    0     0  1587081600   \n",
       "2305  2739        7 2020-04-17 20:00:00      0    0     0  1587168000   \n",
       "2306  2740       11 2020-04-18 17:30:00      0    0     0  1587245400   \n",
       "2307  2741       13 2020-04-18 20:30:00      0    0     0  1587256200   \n",
       "2308  2742        7 2020-04-19 19:00:00      0    0     0  1587337200   \n",
       "2309  2743        1 2020-04-21 20:00:00      0    0     0  1587513600   \n",
       "2310  2744       11 2020-04-23 19:30:00      0    0     0  1587684600   \n",
       "2311  2745       13 2020-04-24 20:00:00      0    0     0  1587772800   \n",
       "2312  2746        7 2020-04-25 20:00:00      0    0     0  1587859200   \n",
       "2313  2747       13 2020-04-26 19:00:00      0    0     0  1587942000   \n",
       "2314  2748        7 2020-04-28 20:00:00      0    0     0  1588118400   \n",
       "2315  2749        1 2020-04-30 20:00:00      0    0     0  1588291200   \n",
       "\n",
       "      num_tickets_remain  num_tickets_sold  \n",
       "2134                   0                 0  \n",
       "2135                   0                 0  \n",
       "2136                   0                 0  \n",
       "2137                   0                 0  \n",
       "2294                   0                 0  \n",
       "2295                   0                 0  \n",
       "2296                   0                 0  \n",
       "2297                   0                 0  \n",
       "2298                   0                 0  \n",
       "2299                   0                 0  \n",
       "2300                   0                 0  \n",
       "2301                   0                 0  \n",
       "2302                   0                 0  \n",
       "2303                   0                 0  \n",
       "2304                   0                 0  \n",
       "2305                   0                 0  \n",
       "2306                   0                 0  \n",
       "2307                   0                 0  \n",
       "2308                   0                 0  \n",
       "2309                   0                 0  \n",
       "2310                   0                36  \n",
       "2311                   0                 0  \n",
       "2312                   0                 0  \n",
       "2313                   0                 0  \n",
       "2314                   0                 0  \n",
       "2315                   0                 0  "
      ]
     },
     "execution_count": 18,
     "metadata": {},
     "output_type": "execute_result"
    }
   ],
   "source": [
    "msk = (feb_events.start_time.dt.year == 2020) & (feb_events.start_time.dt.month == 4)\n",
    "\n",
    "feb_events[msk]"
   ]
  },
  {
   "cell_type": "markdown",
   "metadata": {},
   "source": [
    "## Person"
   ]
  },
  {
   "cell_type": "code",
   "execution_count": null,
   "metadata": {},
   "outputs": [],
   "source": [
    "person_name = 'person.csv'"
   ]
  },
  {
   "cell_type": "code",
   "execution_count": null,
   "metadata": {},
   "outputs": [],
   "source": [
    "april_person = pd.read_csv(os.path.join(APRIL_PATH, person_name))\n",
    "april_person.shape"
   ]
  },
  {
   "cell_type": "code",
   "execution_count": null,
   "metadata": {},
   "outputs": [],
   "source": [
    "feb_person = pd.read_csv(os.path.join(FEB_PATH, person_name))\n",
    "feb_person.shape"
   ]
  },
  {
   "cell_type": "markdown",
   "metadata": {},
   "source": [
    "## Show"
   ]
  },
  {
   "cell_type": "code",
   "execution_count": null,
   "metadata": {},
   "outputs": [],
   "source": [
    "show_name = 'show.csv'"
   ]
  },
  {
   "cell_type": "code",
   "execution_count": null,
   "metadata": {},
   "outputs": [],
   "source": [
    "april_show = pd.read_csv(os.path.join(APRIL_PATH, show_name))\n",
    "april_show.shape"
   ]
  },
  {
   "cell_type": "code",
   "execution_count": null,
   "metadata": {},
   "outputs": [],
   "source": [
    "feb_show = pd.read_csv(os.path.join(FEB_PATH, show_name))\n",
    "feb_show.shape"
   ]
  },
  {
   "cell_type": "markdown",
   "metadata": {},
   "source": [
    "## Ticket"
   ]
  },
  {
   "cell_type": "code",
   "execution_count": null,
   "metadata": {},
   "outputs": [],
   "source": [
    "ticket_name = 'ticket.csv'"
   ]
  },
  {
   "cell_type": "code",
   "execution_count": null,
   "metadata": {},
   "outputs": [],
   "source": [
    "april_ticket = pd.read_csv(os.path.join(APRIL_PATH, ticket_name))\n",
    "april_ticket.shape"
   ]
  },
  {
   "cell_type": "code",
   "execution_count": null,
   "metadata": {},
   "outputs": [],
   "source": [
    "feb_ticket = pd.read_csv(os.path.join(FEB_PATH, ticket_name))\n",
    "feb_ticket.shape"
   ]
  },
  {
   "cell_type": "markdown",
   "metadata": {},
   "source": [
    "## Transaction"
   ]
  },
  {
   "cell_type": "code",
   "execution_count": null,
   "metadata": {},
   "outputs": [],
   "source": [
    "transaction_name = 'transactions.csv'"
   ]
  },
  {
   "cell_type": "code",
   "execution_count": null,
   "metadata": {},
   "outputs": [],
   "source": [
    "april_trans = pd.read_csv(os.path.join(APRIL_PATH, transaction_name))\n",
    "april_trans.shape"
   ]
  },
  {
   "cell_type": "code",
   "execution_count": null,
   "metadata": {},
   "outputs": [],
   "source": [
    "feb_trans = pd.read_csv(os.path.join(FEB_PATH, transaction_name))\n",
    "feb_trans.shape"
   ]
  },
  {
   "cell_type": "code",
   "execution_count": null,
   "metadata": {},
   "outputs": [],
   "source": []
  }
 ],
 "metadata": {
  "kernelspec": {
   "display_name": "Python 3.6 (ds)",
   "language": "python",
   "name": "ds"
  },
  "language_info": {
   "codemirror_mode": {
    "name": "ipython",
    "version": 3
   },
   "file_extension": ".py",
   "mimetype": "text/x-python",
   "name": "python",
   "nbconvert_exporter": "python",
   "pygments_lexer": "ipython3",
   "version": "3.6.9"
  }
 },
 "nbformat": 4,
 "nbformat_minor": 2
}
